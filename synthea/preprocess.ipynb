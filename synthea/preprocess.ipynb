{
 "cells": [
  {
   "cell_type": "code",
   "execution_count": null,
   "metadata": {},
   "outputs": [],
   "source": [
    "import pandas as pd"
   ]
  },
  {
   "cell_type": "code",
   "execution_count": null,
   "metadata": {},
   "outputs": [],
   "source": [
    "patients = pd.read_csv(\"../../socio-economic-data/synthea/data/patients.csv\")\n",
    "print(patients.columns)\n",
    "patients"
   ]
  },
  {
   "cell_type": "code",
   "execution_count": null,
   "metadata": {},
   "outputs": [],
   "source": [
    "conditions = pd.read_csv(\"../..//socio-economic-data/synthea/data/conditions.csv\")\n",
    "print(conditions.columns)\n",
    "#select patients with anxiety\n",
    "conditions = conditions[conditions[\"DESCRIPTION\"].str.contains(\"anxiety\")]\n",
    "conditions"
   ]
  },
  {
   "cell_type": "code",
   "execution_count": null,
   "metadata": {},
   "outputs": [],
   "source": [
    "anxiety_patients = pd.merge(patients, conditions, left_on='Id', right_on='PATIENT')\n",
    "#select specific columns\n",
    "anxiety_patients = anxiety_patients[['Id', 'ZIP', 'RACE', 'GENDER', 'ETHNICITY', 'INCOME', 'HEALTHCARE_EXPENSES', 'HEALTHCARE_COVERAGE', 'DESCRIPTION']]\n",
    "anxiety_patients"
   ]
  },
  {
   "cell_type": "markdown",
   "metadata": {},
   "source": [
    "NOTE: Multiple observations for same patient can exist "
   ]
  },
  {
   "cell_type": "code",
   "execution_count": null,
   "metadata": {},
   "outputs": [],
   "source": [
    "observations = pd.read_csv(\"../../socio-economic-data/synthea/data/observations.csv\")\n",
    "print(observations.columns)\n",
    "#select observations recorded for anxiety\n",
    "observations = observations[observations[\"DESCRIPTION\"].str.contains(\"anxiety\")]\n"
   ]
  },
  {
   "cell_type": "code",
   "execution_count": null,
   "metadata": {},
   "outputs": [],
   "source": [
    "anxiety_observations = pd.merge(anxiety_patients, observations, left_on='Id', right_on='PATIENT')\n",
    "#select columns of interest\n",
    "anxiety_observations = anxiety_observations[['Id', 'ZIP', 'RACE', 'GENDER', 'ETHNICITY', 'INCOME', 'HEALTHCARE_EXPENSES', 'HEALTHCARE_COVERAGE', 'DESCRIPTION_x', 'DESCRIPTION_y', 'VALUE']]\n",
    "anxiety_observations"
   ]
  },
  {
   "cell_type": "code",
   "execution_count": null,
   "metadata": {},
   "outputs": [],
   "source": [
    "anxiety_observations = anxiety_observations.rename(columns={'DESCRIPTION_x':'CONDITION', 'DESCRIPTION_y':'OBSERVED_CONDITION'})\n",
    "anxiety_observations"
   ]
  }
 ],
 "metadata": {
  "language_info": {
   "name": "python"
  },
  "orig_nbformat": 4
 },
 "nbformat": 4,
 "nbformat_minor": 2
}
